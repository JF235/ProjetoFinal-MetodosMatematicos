{
 "cells": [
  {
   "cell_type": "code",
   "execution_count": 1,
   "metadata": {},
   "outputs": [],
   "source": [
    "import numpy as np\n",
    "from numpy import deg2rad, sqrt, pi, sin, cos\n",
    "from numpy.linalg import norm\n",
    "import matplotlib.pyplot as plt\n",
    "from scipy.optimize import newton\n",
    "from scipy.spatial.transform import Rotation"
   ]
  },
  {
   "cell_type": "code",
   "execution_count": 2,
   "metadata": {},
   "outputs": [],
   "source": [
    "MU = 3.986004418E5\n",
    "C = 300 # km/ms"
   ]
  },
  {
   "cell_type": "markdown",
   "metadata": {},
   "source": [
    "# Exercício 1 (Parametrização das órbitas)"
   ]
  },
  {
   "cell_type": "markdown",
   "metadata": {},
   "source": [
    "## Item a\n",
    "\n",
    "Uma parametrização é o processo de encontrar equações paramétricas que descrevem uma curva ou superfície. Expressar essas formas em termos de parâmetros.\n",
    "\n",
    "Uma curva é a imagem de uma função $\\gamma: I\\subseteq \\mathbb{R}^n \\to \\mathbb{R}^m$.\n",
    "\n",
    "Nesse primeiro caso, quero encontrar a parametrização cartesiana de uma curva\n",
    "\n",
    "$$\\gamma(t) = \\left(x(t), y(t)\\right)$$\n",
    "\n",
    "Da definição de coordenadas polares,\n",
    "\n",
    "$$\\begin{cases}\n",
    "x(t) = r(t)\\cos(\\theta(t))\\\\\n",
    "y(t) = r(t)\\sin(\\theta(t))\\end{cases}$$\n",
    "\n",
    "Sendo que $r(t)$ é a distância entre a origem e o ponto da curva e $\\theta(t)$ é o ângulo marcado em sentido antihorário com a parte positiva do eixo $x$. Portanto, $r(t)$ é a mesma distância dada e $\\theta(t) = \\nu(t)$\n",
    "\n",
    "$$\\begin{cases}\n",
    "x(t) = r(t)\\cos(\\nu(t))\\\\\n",
    "y(t) = r(t)\\sin(\\nu(t))\\end{cases}$$\n",
    "\n",
    "Em seguida, definido o círculo da figura, igualando os comprimentos na horizontal:\n",
    "\n",
    "$$a\\cos E = ae + r\\cos \\nu$$\n",
    "\n",
    "![](imgs/circulo_ecentrico.svg)\n",
    "\n",
    "[Orbital Mechanics, Bryan Weber](https://orbital-mechanics.space/time-since-periapsis-and-keplers-equation/elliptical-orbits.html#eccentric-anomaly)\n",
    "\n",
    "Sabendo que $ae$ é a distância entre o centro do círculo e a posição do planeta (distância do centro ao foco). \n",
    "\n",
    "---\n",
    "\n",
    "**Demonstração** \n",
    "\n",
    "Uma característica da Elipse é que *soma das distâncias de um ponto para cada um de seus focos é constante*. Assim, quando o ponto está no eixo $x$, podemos mostrar que essa constante é igual a $2a$. Além disso, quando o ponto está a $90^\\circ$ graus do eixo $x$ positivo, as duas distância são iguais e, portanto, valem $a$. Nesse esquema, denotando como distância do centro ao foco como $c$, pode ser obtida a relação\n",
    "\n",
    "$$\\text{(dist. centro ao foco)} = c = \\sqrt{a^2-b^2}$$\n",
    "\n",
    "A excentricidade é a razão entre a distância do centro até o foco e o semieixo maior.\n",
    "\n",
    "$$e:= \\frac{c}{a} = \\sqrt{1 - \\frac{b^2}{a^2}}$$\n",
    "\n",
    "Portanto, dada a excentricidade $e$ e o semieixo maior $a$ a distância do centro ao foco é\n",
    "\n",
    "$$c = ae$$\n",
    "\n",
    "---\n",
    "\n",
    "A igualdade dos comprimentos acima, indica que\n",
    "\n",
    "$$x = r\\cos\\nu = a(\\cos E - e)$$\n",
    "\n",
    "De maneira similar, a coordenada y na elipse é dada por $y = b\\sin E$. Da definição de excentricidade, $b = a \\sqrt{1-e^2}$\n",
    "\n",
    "$$y = a\\sqrt{1-e^2}\\sin E$$"
   ]
  },
  {
   "cell_type": "markdown",
   "metadata": {},
   "source": [
    "## Item b\n",
    "\n",
    "Da segunda Lei de Kepler,\n",
    "\n",
    "$$\\Delta A = \\frac{h}{2}\\Delta t$$\n",
    "\n",
    "Para a área total, teremos o período\n",
    "\n",
    "$$\\pi ab = \\frac{h}{2}T \\Leftrightarrow T = 2\\pi\\sqrt{\\frac{a^3}{\\mu}}$$\n",
    "\n",
    "É uma equação que envolve uma função transcendente e não tem solução analítica (sem solução algébrica para $E$). Faz uso de métodos iterativos ou expansão em série.\n",
    "\n",
    "Vide: https://en.wikipedia.org/wiki/Kepler's_equation#Equation"
   ]
  },
  {
   "cell_type": "code",
   "execution_count": 3,
   "metadata": {},
   "outputs": [],
   "source": [
    "def perifocalPos(tp, a, e, mu = MU):\n",
    "    \n",
    "    def kepler(E, M, e):\n",
    "        # Equação de Kepler na forma: f(E) = 0\n",
    "        return E - e * sin(E) - M\n",
    "\n",
    "    def dKepler(E, M, e):\n",
    "        # Derivada da Equação de Kepler f'(E)\n",
    "        return 1 - e * cos(E)\n",
    "\n",
    "    tp = np.atleast_1d(tp)\n",
    "    \n",
    "    T = 2 * pi / sqrt(mu) * a**(3 / 2) # Período Orbital (seg)\n",
    "    M = (2*pi/T * tp) % (2*pi) # Anomalia Média\n",
    "\n",
    "    # Resolve a Equação de Kepler para a Anomalia Excêntrica\n",
    "    E0 = M\n",
    "    E = newton(func=kepler, x0=E0, fprime=dKepler, args=(M, e))\n",
    "    \n",
    "    # Resposta do item a)\n",
    "    x = a*cos(E) - a*e\n",
    "    y = a*sqrt(1-e**2)*sin(E)\n",
    "    \n",
    "    return np.array([x, y])"
   ]
  },
  {
   "cell_type": "markdown",
   "metadata": {},
   "source": [
    "## Item c"
   ]
  },
  {
   "cell_type": "markdown",
   "metadata": {},
   "source": [
    "https://orbital-mechanics.space/classical-orbital-elements/orbital-elements-and-the-state-vector.html"
   ]
  },
  {
   "cell_type": "code",
   "execution_count": 4,
   "metadata": {},
   "outputs": [],
   "source": [
    "def posVec(tp, a, e, w, i, o, mu = MU):\n",
    "    pPos = perifocalPos(tp, a, e, mu)\n",
    "    \n",
    "    perifocal3D = np.vstack([pPos, np.zeros(pPos.shape[1])])\n",
    "    \n",
    "    # Realiza as três rotações\n",
    "    angles = -np.array([w, i, o]).T\n",
    "    angles = deg2rad(angles)\n",
    "    R = Rotation.from_euler(\"ZXZ\", angles).as_matrix()\n",
    "    pos = R.T @ perifocal3D\n",
    "\n",
    "    return pos"
   ]
  },
  {
   "cell_type": "markdown",
   "metadata": {},
   "source": [
    "## Teste"
   ]
  },
  {
   "cell_type": "code",
   "execution_count": 5,
   "metadata": {},
   "outputs": [],
   "source": [
    "# Dados\n",
    "a = np.array([15300, 16100, 17800, 16400]) # km\n",
    "e = np.array([.41, .342, .235, .3725])\n",
    "w = np.array([60, 10, 30, 60]) # deg\n",
    "i = np.array([30, 30, 0, 20]) # deg\n",
    "o = np.array([0, 40, 40, 40]) # deg\n",
    "tp = np.array([4708.5603, 5082.6453, 5908.5511, 5225.3666])\n",
    "TOA = np.array([60000] * 4)\n",
    "TOT = np.array([13581.1080927 , 19719.32768037, 11757.73393255, 20172.46081236])"
   ]
  },
  {
   "cell_type": "code",
   "execution_count": 6,
   "metadata": {},
   "outputs": [
    {
     "data": {
      "text/plain": [
       "array([[-17198.94636766,  -3357.8884269 ,  -1938.67778718],\n",
       "       [-16764.51326576,   -188.27453647,   6138.26955927],\n",
       "       [-18646.04514963,  -1962.47472564,      0.        ],\n",
       "       [-12159.76207073, -13896.76819502,  -1029.81652816]])"
      ]
     },
     "execution_count": 6,
     "metadata": {},
     "output_type": "execute_result"
    }
   ],
   "source": [
    "satPos = []\n",
    "for k in range(4):\n",
    "    pos = posVec(tp[k], a[k], e[k], w[k], i[k], o[k])\n",
    "    satPos.append(pos)\n",
    "\n",
    "satPos = np.array(satPos).reshape([4, 3])\n",
    "satPos"
   ]
  },
  {
   "cell_type": "markdown",
   "metadata": {},
   "source": [
    "# Exercício 2"
   ]
  },
  {
   "cell_type": "markdown",
   "metadata": {},
   "source": [
    "## Item a\n",
    "\n",
    "\n",
    "$$TOF = TOA - TOT$$\n",
    "\n",
    "$$\\rho = c \\cdot TOF$$\n",
    "\n",
    "$$c = 3\\times 10^8\\ \\text{m/s}$$"
   ]
  },
  {
   "cell_type": "code",
   "execution_count": 7,
   "metadata": {},
   "outputs": [
    {
     "data": {
      "text/plain": [
       "array([46418.8919073 , 40280.67231963, 48242.26606745, 39827.53918764])"
      ]
     },
     "execution_count": 7,
     "metadata": {},
     "output_type": "execute_result"
    }
   ],
   "source": [
    "TOF = TOA - TOT\n",
    "TOF"
   ]
  },
  {
   "cell_type": "code",
   "execution_count": 8,
   "metadata": {},
   "outputs": [
    {
     "data": {
      "text/plain": [
       "array([13925.66757219, 12084.20169589, 14472.67982024, 11948.26175629])"
      ]
     },
     "execution_count": 8,
     "metadata": {},
     "output_type": "execute_result"
    }
   ],
   "source": [
    "rho = TOF*C/1000\n",
    "rho"
   ]
  },
  {
   "cell_type": "markdown",
   "metadata": {},
   "source": [
    "## Item b\n",
    "\n",
    "Sistema não linear, pois as equações não são combinações lineares das variáveis $(x,y,z)$\n",
    "\n",
    "$$ (x - x)^2 + (y - y_i)^2 + (z - z_i)^2 = \\rho_i^2$$"
   ]
  },
  {
   "cell_type": "markdown",
   "metadata": {},
   "source": [
    "## Item c e d\n",
    "\n",
    "$$J(x,y,z) = \\frac{1}{2}\\sum_i\\left(\\sqrt{(x - x_i)^2 + (y - y_i)^2 + (z - z_i)^2} - \\rho_i \\right)^2$$\n",
    "\n",
    "$J$ é zero quando acertamos a posição do receptor. Para qualquer outro valor, o valor de $J$ será maior. Dessa forma, a posição do drone é um mínimo global de $J$.\n",
    "\n",
    "$$\\partial_x J = \\sum_i(x-x_i)\\frac{\\sqrt{(x - x_i)^2 + (y - y_i)^2 + (z - z_i)^2} - \\rho_i}{ \\sqrt{(x - x_i)^2 + (y - y_i)^2 + (z - z_i)^2}}$$\n",
    "\n",
    "Para encurtar,\n",
    "\n",
    "$$\\hat \\rho_i := \\sqrt{(x - x_i)^2 + (y - y_i)^2 + (z - z_i)^2}$$\n",
    "\n",
    "$$\\partial_x J = \\sum_i(x-x_i)\\frac{\\hat \\rho_i - \\rho_i}{\\hat \\rho_i}$$\n",
    "\n",
    "Por simetria, obtém-se as outras derivadas que compõem o gradiente\n",
    "\n",
    "$$\\partial_y J = \\sum_i(y-y_i)\\frac{\\hat \\rho_i - \\rho_i}{\\hat \\rho_i}$$\n",
    "$$\\partial_z J = \\sum_i(z-z_i)\\frac{\\hat \\rho_i - \\rho_i}{\\hat \\rho_i}$$\n",
    "\n",
    "$$\\nabla J = \\begin{bmatrix}\n",
    "    \\partial_x J \\\\\n",
    "    \\partial_y J \\\\\n",
    "    \\partial_z J \\\\\n",
    "\\end{bmatrix}$$\n",
    "\n",
    "Em formato de matriz, defino\n",
    "\n",
    "$$\\mathbf{x} = (x, y, z)$$\n",
    "\n",
    "$$\\mathbf{R} = \\begin{bmatrix}\n",
    "    x_1 & y_1 & z_1 \\\\\n",
    "    x_2 & y_2 & z_2 \\\\\n",
    "    & \\vdots & \\\\\n",
    "    x_n & y_n & z_n \\\\\n",
    "\\end{bmatrix}$$\n",
    "\n",
    "$$\\mathbf{d} = \\mathbf{x} - \\mathbf{R} = \\begin{bmatrix}\n",
    "    x - x_1 & y - y_1 & z - z_1 \\\\\n",
    "    x - x_2 & y - y_2 & z - z_2 \\\\\n",
    "    & \\vdots & \\\\\n",
    "    x - x_n & y - y_n & z - z_n \\\\\n",
    "\\end{bmatrix}_{(n\\times 3)}$$\n",
    "\n",
    "$$\\boldsymbol{\\rho} = \\begin{bmatrix}\n",
    "    \\rho_1 \\\\ \\rho_2 \\\\ \\vdots \\\\ \\rho_n\n",
    "\\end{bmatrix},\\quad\n",
    "\\boldsymbol{\\hat \\rho} = \\begin{bmatrix}\n",
    "    \\hat\\rho_1 \\\\ \\hat\\rho_2 \\\\ \\vdots \\\\ \\hat\\rho_n\n",
    "\\end{bmatrix},\\quad\n",
    "\\frac{\\boldsymbol{\\hat \\rho}  - \\boldsymbol{\\rho}}{\\boldsymbol{\\hat \\rho} } = \\begin{bmatrix}\n",
    "    (\\hat \\rho_1 - \\rho_1)/\\hat \\rho_1 \\\\ \n",
    "    (\\hat \\rho_2 - \\rho_2)/\\hat \\rho_2 \\\\ \n",
    "    \\vdots \\\\ \n",
    "    (\\hat \\rho_n - \\rho_n)/\\hat \\rho_n\n",
    "\\end{bmatrix}_{(n\\times 1)}$$\n",
    "\n",
    "Logo, o vetor gradiente é\n",
    "\n",
    "$$\\nabla J = \\mathbf{d}^T \\left(\\frac{\\boldsymbol{\\hat \\rho}  - \\boldsymbol{\\rho}}{\\boldsymbol{\\hat \\rho} }\\right) = \\mathbf{d}^T \\left(1 - \\frac{\\boldsymbol{\\rho}}{\\boldsymbol{\\hat \\rho} }\\right) $$"
   ]
  },
  {
   "cell_type": "code",
   "execution_count": 9,
   "metadata": {},
   "outputs": [],
   "source": [
    "def grad(x):\n",
    "    # satPos, rho são variáveis globais\n",
    "    d = x - satPos\n",
    "    rhoHat = norm(d, axis=1)\n",
    "    return d.T @ (1 - rho/rhoHat)"
   ]
  },
  {
   "cell_type": "code",
   "execution_count": 13,
   "metadata": {},
   "outputs": [
    {
     "data": {
      "text/plain": [
       "array([-7.98092184e-10,  2.10875740e-10, -1.95422840e-10])"
      ]
     },
     "execution_count": 13,
     "metadata": {},
     "output_type": "execute_result"
    }
   ],
   "source": [
    "grad(np.array([-6420., -6432., 6325.]))"
   ]
  },
  {
   "cell_type": "code",
   "execution_count": 11,
   "metadata": {},
   "outputs": [],
   "source": [
    "def gradient_descent(grad, x0, Nsteps=200, learningRate=0.6, momentum=0.7):\n",
    "    x = x0\n",
    "    vel = np.array([[0, 0, 0]], dtype='float64')\n",
    "    \n",
    "    for i in range(Nsteps):\n",
    "        g = grad(x)\n",
    "        \n",
    "        vel = momentum * vel - learningRate * g\n",
    "        x += vel\n",
    "    \n",
    "    return x"
   ]
  },
  {
   "cell_type": "code",
   "execution_count": 12,
   "metadata": {},
   "outputs": [
    {
     "data": {
      "text/plain": [
       "array([[-6420., -6432.,  6325.]])"
      ]
     },
     "execution_count": 12,
     "metadata": {},
     "output_type": "execute_result"
    }
   ],
   "source": [
    "x0 = np.array([[0, 0, 0]], dtype='float64')\n",
    "\n",
    "gradient_descent(grad, x0, Nsteps=200)"
   ]
  }
 ],
 "metadata": {
  "kernelspec": {
   "display_name": "Python 3",
   "language": "python",
   "name": "python3"
  },
  "language_info": {
   "codemirror_mode": {
    "name": "ipython",
    "version": 3
   },
   "file_extension": ".py",
   "mimetype": "text/x-python",
   "name": "python",
   "nbconvert_exporter": "python",
   "pygments_lexer": "ipython3",
   "version": "3.12.0"
  }
 },
 "nbformat": 4,
 "nbformat_minor": 2
}
